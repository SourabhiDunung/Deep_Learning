{
  "nbformat": 4,
  "nbformat_minor": 0,
  "metadata": {
    "colab": {
      "provenance": [],
      "include_colab_link": true
    },
    "kernelspec": {
      "name": "python3",
      "display_name": "Python 3"
    },
    "language_info": {
      "name": "python"
    }
  },
  "cells": [
    {
      "cell_type": "markdown",
      "metadata": {
        "id": "view-in-github",
        "colab_type": "text"
      },
      "source": [
        "<a href=\"https://colab.research.google.com/github/SourabhiDunung/Deep_Learning/blob/main/DL_Lab3.ipynb\" target=\"_parent\"><img src=\"https://colab.research.google.com/assets/colab-badge.svg\" alt=\"Open In Colab\"/></a>"
      ]
    },
    {
      "cell_type": "markdown",
      "source": [
        "Medini Amrutkar\n",
        "UEC2021202\n"
      ],
      "metadata": {
        "id": "9Zwli9yBO-pE"
      }
    },
    {
      "cell_type": "markdown",
      "source": [
        "Back propogation Learning"
      ],
      "metadata": {
        "id": "0hBFOSFJCBal"
      }
    },
    {
      "cell_type": "code",
      "source": [
        "import numpy as np\n",
        "import matplotlib.pyplot as plt"
      ],
      "metadata": {
        "id": "5POoYzKlFAvS"
      },
      "execution_count": null,
      "outputs": []
    },
    {
      "cell_type": "code",
      "execution_count": null,
      "metadata": {
        "id": "M74wPSvL_Ii_"
      },
      "outputs": [],
      "source": [
        "#these are or inputs\n",
        "x=np.array([[0,0,1,1],[0,1,0,1]])\n",
        "#these are or outputs\n",
        "y=np.array([[0,1,1,1]])\n",
        "#number of inputs\n",
        "n_x=2\n",
        "#number of neurons in output layer\n",
        "n_y=1\n",
        "#total training examples\n",
        "m=x.shape[1]\n",
        "#learning rate\n",
        "lr=0.1\n"
      ]
    },
    {
      "cell_type": "markdown",
      "source": [
        "Define weights"
      ],
      "metadata": {
        "id": "OyxDiSH5FiwR"
      }
    },
    {
      "cell_type": "code",
      "source": [
        "#define weight matrices for neural network\n",
        "w2=np.random.rand(1,2)\n",
        "#will use this to accumulate losses\n",
        "losses=[]"
      ],
      "metadata": {
        "id": "j_voyCs6FQLH"
      },
      "execution_count": null,
      "outputs": []
    },
    {
      "cell_type": "markdown",
      "source": [
        "define sigmoid activation function"
      ],
      "metadata": {
        "id": "pJGwHd9UF7Ix"
      }
    },
    {
      "cell_type": "code",
      "source": [
        "#sigmoid activation function for hidden layer and output\n",
        "def sigmoid(z):\n",
        "  z=1/(1+np.exp(-z))\n",
        "  return z"
      ],
      "metadata": {
        "id": "2KAe0ALBGEA3"
      },
      "execution_count": null,
      "outputs": []
    },
    {
      "cell_type": "markdown",
      "source": [
        "forward propogation"
      ],
      "metadata": {
        "id": "st4tk904HNUp"
      }
    },
    {
      "cell_type": "code",
      "source": [
        "#forward pass\n",
        "def forward_pass(w2,x):\n",
        "  z2=np.dot(w2,x)\n",
        "  a2=sigmoid(z2)\n",
        "  #print (a2)\n",
        "  return z2,a2"
      ],
      "metadata": {
        "id": "hY-fNzAiHJ2d"
      },
      "execution_count": null,
      "outputs": []
    },
    {
      "cell_type": "markdown",
      "source": [
        "backward propogation"
      ],
      "metadata": {
        "id": "iej17umaH3as"
      }
    },
    {
      "cell_type": "code",
      "source": [
        "def back_prop(z2,a2,y,x):\n",
        "  dz2=(a2-y)*a2*(1-a2)\n",
        "  #print (dz2)\n",
        "  dw2=np.dot(dz2,x.T)\n",
        "  #dw2 = np.reshape(dw2,w2.shape)\n",
        "  return dz2,dw2"
      ],
      "metadata": {
        "id": "wKhFSiT_H63p"
      },
      "execution_count": null,
      "outputs": []
    },
    {
      "cell_type": "code",
      "source": [
        "iterations = 100000\n",
        "for i in range(iterations):\n",
        "  z2,a2 = forward_pass(w2,x)\n",
        "  loss1 = (1/2)*np.square(a2-y)\n",
        "  loss=np.mean(loss1)\n",
        "  #print(loss)\n",
        "  losses.append(loss)\n",
        "  dz2,dw2 = back_prop(z2,a2,y,x)\n",
        "  w2 = w2-lr*dw2\n",
        "  #we plot losses to see how our netwoek is doing\n",
        "plt.plot(losses)\n",
        "plt.xlabel(\"EPOCHS\")\n",
        "plt.ylabel(\"Loss Value\")\n"
      ],
      "metadata": {
        "colab": {
          "base_uri": "https://localhost:8080/",
          "height": 466
        },
        "id": "Y7kiW2CLI6JZ",
        "outputId": "9cf7a4a6-028d-476b-e28a-754fdd46c64a"
      },
      "execution_count": null,
      "outputs": [
        {
          "output_type": "execute_result",
          "data": {
            "text/plain": [
              "Text(0, 0.5, 'Loss Value')"
            ]
          },
          "metadata": {},
          "execution_count": 11
        },
        {
          "output_type": "display_data",
          "data": {
            "text/plain": [
              "<Figure size 640x480 with 1 Axes>"
            ],
            "image/png": "[encoded data removed]"
          },
          "metadata": {}
        }
      ]
    },
    {
      "cell_type": "markdown",
      "source": [
        "testing"
      ],
      "metadata": {
        "id": "nfBGyWNuMhWn"
      }
    },
    {
      "cell_type": "code",
      "source": [
        "def predict(w2,input):\n",
        "    z2,a2 = forward_pass(w2,input)\n",
        "\n",
        "    if a2>=0.5:\n",
        "      print(\"For input\", [i[0]for i in input], \"output is 1\")\n",
        "    else:\n",
        "      print(\"for input\", [i[0]for i in input], \"output is 0\")\n",
        "\n",
        "test1=np.array([[0],[0]])\n",
        "predict(w2,test1)\n",
        "test2=np.array([[0],[1]])\n",
        "predict(w2,test2)\n",
        "test3=np.array([[1],[0]])\n",
        "predict(w2,test3)\n",
        "test4=np.array([[1],[1]])\n",
        "predict(w2,test4)\n",
        "\n",
        "print(\"OR(0,0) =\",a2)\n",
        "print(\"OR(0,1) =\",a2)\n",
        "print(\"OR(1,0) =\",a2)\n",
        "print(\"OR(1,1) =\",a2)"
      ],
      "metadata": {
        "colab": {
          "base_uri": "https://localhost:8080/"
        },
        "id": "1dPvJHILMi0M",
        "outputId": "2b3f5f36-8fb0-48f9-df35-aec8653a6150"
      },
      "execution_count": null,
      "outputs": [
        {
          "output_type": "stream",
          "name": "stdout",
          "text": [
            "For input [0, 0] output is 1\n",
            "For input [0, 1] output is 1\n",
            "For input [1, 0] output is 1\n",
            "For input [1, 1] output is 1\n",
            "OR(0,0) = [[0.5        0.99494975 0.99495022 0.99997424]]\n",
            "OR(0,1) = [[0.5        0.99494975 0.99495022 0.99997424]]\n",
            "OR(1,0) = [[0.5        0.99494975 0.99495022 0.99997424]]\n",
            "OR(1,1) = [[0.5        0.99494975 0.99495022 0.99997424]]\n"
          ]
        }
      ]
    }
  ]
}