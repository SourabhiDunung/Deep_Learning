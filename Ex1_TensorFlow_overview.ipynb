{
  "nbformat": 4,
  "nbformat_minor": 0,
  "metadata": {
    "colab": {
      "provenance": [],
      "authorship_tag": "ABX9TyNOPHaH0fM2sduE++are38z",
      "include_colab_link": true
    },
    "kernelspec": {
      "name": "python3",
      "display_name": "Python 3"
    },
    "language_info": {
      "name": "python"
    }
  },
  "cells": [
    {
      "cell_type": "markdown",
      "metadata": {
        "id": "view-in-github",
        "colab_type": "text"
      },
      "source": [
        "<a href=\"https://colab.research.google.com/github/SourabhiDunung/Deep_Learning/blob/main/Ex1_TensorFlow_overview.ipynb\" target=\"_parent\"><img src=\"https://colab.research.google.com/assets/colab-badge.svg\" alt=\"Open In Colab\"/></a>"
      ]
    },
    {
      "cell_type": "markdown",
      "source": [
        "Name: Sourabhi Dunung\n",
        "\n",
        "Roll No: UEC2021211\n",
        "\n",
        "Class: E&Tc B DL3\n",
        "\n",
        "Experiment 1: Tensorflow Overwiew"
      ],
      "metadata": {
        "id": "7i-f_NGHtA-5"
      }
    },
    {
      "cell_type": "code",
      "execution_count": null,
      "metadata": {
        "id": "u11iuChE47-O"
      },
      "outputs": [],
      "source": [
        "import tensorflow as tf"
      ]
    },
    {
      "cell_type": "markdown",
      "source": [
        "Addition operation"
      ],
      "metadata": {
        "id": "69JrUDFA6fis"
      }
    },
    {
      "cell_type": "code",
      "source": [
        "a1= tf.constant([[1,2,3],[4,7,13]])\n",
        "b1= tf.constant([[2,4,7],[5,8,90]])\n",
        "c1= tf.add(a1,b1)\n",
        "print(c1)"
      ],
      "metadata": {
        "colab": {
          "base_uri": "https://localhost:8080/"
        },
        "id": "sxdgHiEK6jgr",
        "outputId": "1181c64c-4ce0-4e04-f3cd-068612c57af3"
      },
      "execution_count": null,
      "outputs": [
        {
          "output_type": "stream",
          "name": "stdout",
          "text": [
            "tf.Tensor(\n",
            "[[  3   6  10]\n",
            " [  9  15 103]], shape=(2, 3), dtype=int32)\n"
          ]
        }
      ]
    },
    {
      "cell_type": "markdown",
      "source": [
        "Substraction operation"
      ],
      "metadata": {
        "id": "fGeU5DwI7e_F"
      }
    },
    {
      "cell_type": "code",
      "source": [
        "p1= tf.constant([[1,2,3],[4,7,13]])\n",
        "q1= tf.constant([[2,4,7],[5,8,90]])\n",
        "r1= tf.subtract(p1,q1)\n",
        "print(r1)"
      ],
      "metadata": {
        "colab": {
          "base_uri": "https://localhost:8080/"
        },
        "id": "emBNuzvL7h4D",
        "outputId": "012f91db-36b0-4964-8f00-cefd9c4d4c7e"
      },
      "execution_count": null,
      "outputs": [
        {
          "output_type": "stream",
          "name": "stdout",
          "text": [
            "tf.Tensor(\n",
            "[[ -1  -2  -4]\n",
            " [ -1  -1 -77]], shape=(2, 3), dtype=int32)\n"
          ]
        }
      ]
    },
    {
      "cell_type": "markdown",
      "source": [
        "Multiply"
      ],
      "metadata": {
        "id": "sh9euFM48fTB"
      }
    },
    {
      "cell_type": "code",
      "source": [
        "x1= tf.constant([[1,2,3],[4,7,13]])\n",
        "y1= tf.constant([[2,4,7],[5,8,90]])\n",
        "z1= tf.multiply(x1,y1)\n",
        "print(z1)"
      ],
      "metadata": {
        "colab": {
          "base_uri": "https://localhost:8080/"
        },
        "id": "Xox-y49f8g9w",
        "outputId": "aab880c5-9990-413c-d9d0-a4c66f7b5f7b"
      },
      "execution_count": null,
      "outputs": [
        {
          "output_type": "stream",
          "name": "stdout",
          "text": [
            "tf.Tensor(\n",
            "[[   2    8   21]\n",
            " [  20   56 1170]], shape=(2, 3), dtype=int32)\n"
          ]
        }
      ]
    },
    {
      "cell_type": "markdown",
      "source": [
        "Matrix Multipilication"
      ],
      "metadata": {
        "id": "62LkopUb8850"
      }
    },
    {
      "cell_type": "code",
      "source": [
        "s1= tf.constant([[1,2,3],[4,7,13]])\n",
        "t1= tf.constant([[4,7,9],[2,4,7],[5,8,90]])\n",
        "u1= tf.matmul(s1,t1)\n",
        "print(u1)"
      ],
      "metadata": {
        "colab": {
          "base_uri": "https://localhost:8080/"
        },
        "id": "HeiLmwrq8_tU",
        "outputId": "dc518856-5eac-47b3-91fa-459bed66f7ea"
      },
      "execution_count": null,
      "outputs": [
        {
          "output_type": "stream",
          "name": "stdout",
          "text": [
            "tf.Tensor(\n",
            "[[  23   39  293]\n",
            " [  95  160 1255]], shape=(2, 3), dtype=int32)\n"
          ]
        }
      ]
    },
    {
      "cell_type": "markdown",
      "source": [
        "row wise or column wise addition"
      ],
      "metadata": {
        "id": "xwdZiGJ09lYt"
      }
    },
    {
      "cell_type": "code",
      "source": [
        "l1= tf.constant([[1,2,3],[4,7,13]])\n",
        "i1=tf.reduce_sum(l1) #complete matrix\n",
        "i2=tf.reduce_sum(l1,0) #column 1\n",
        "i3=tf.reduce_sum(l1,1) #column 2\n",
        "print(i1)\n",
        "print(i2)\n",
        "print(i3)"
      ],
      "metadata": {
        "colab": {
          "base_uri": "https://localhost:8080/"
        },
        "id": "GkWuS3wV9l38",
        "outputId": "8f32c712-990a-4a72-da7c-0dabc09faeea"
      },
      "execution_count": null,
      "outputs": [
        {
          "output_type": "stream",
          "name": "stdout",
          "text": [
            "tf.Tensor(30, shape=(), dtype=int32)\n",
            "tf.Tensor([ 5  9 16], shape=(3,), dtype=int32)\n",
            "tf.Tensor([ 6 24], shape=(2,), dtype=int32)\n"
          ]
        }
      ]
    },
    {
      "cell_type": "markdown",
      "source": [
        "declaring the function"
      ],
      "metadata": {
        "id": "S8PqTZIDB5fk"
      }
    },
    {
      "cell_type": "code",
      "source": [
        "def myfun():\n",
        " print(\"Hello there!\")"
      ],
      "metadata": {
        "id": "-9yt2bKzB77E"
      },
      "execution_count": null,
      "outputs": []
    },
    {
      "cell_type": "code",
      "source": [
        "myfun()"
      ],
      "metadata": {
        "colab": {
          "base_uri": "https://localhost:8080/"
        },
        "id": "RGvJK4R1Ce9e",
        "outputId": "f46fae33-6720-4755-880f-983cfccb4e81"
      },
      "execution_count": null,
      "outputs": [
        {
          "output_type": "stream",
          "name": "stdout",
          "text": [
            "Hello there!\n"
          ]
        }
      ]
    },
    {
      "cell_type": "markdown",
      "source": [
        "with arguremnt"
      ],
      "metadata": {
        "id": "aLis0zaTCnNl"
      }
    },
    {
      "cell_type": "code",
      "source": [
        "def my_function(fname):\n",
        " print(fname + \" from cummins\")\n",
        "my_function(\"Sourabhi\")\n",
        "my_function(\"Mayuri\")\n",
        "my_function(\"Nandini\")"
      ],
      "metadata": {
        "colab": {
          "base_uri": "https://localhost:8080/"
        },
        "id": "gMHR8WQkCo_n",
        "outputId": "625b8f89-7826-49a2-83a7-cf5aa6585f21"
      },
      "execution_count": null,
      "outputs": [
        {
          "output_type": "stream",
          "name": "stdout",
          "text": [
            "Sourabhi from cummins\n",
            "Mayuri from cummins\n",
            "Nandini from cummins\n"
          ]
        }
      ]
    },
    {
      "cell_type": "markdown",
      "source": [
        "using cProfile"
      ],
      "metadata": {
        "id": "C3krA99MDEsq"
      }
    },
    {
      "cell_type": "code",
      "source": [
        "import cProfile"
      ],
      "metadata": {
        "id": "Udn-YyfsHknq"
      },
      "execution_count": null,
      "outputs": []
    },
    {
      "cell_type": "code",
      "source": [
        "def wrapper():\n",
        "    my_function(\"Sourabhi\")\n",
        "    my_function(\"Mayuri\")\n",
        "    my_function(\"Nandini\")"
      ],
      "metadata": {
        "id": "3mUsiJiz09L-"
      },
      "execution_count": null,
      "outputs": []
    },
    {
      "cell_type": "code",
      "source": [
        "cProfile.run(\"wrapper()\")"
      ],
      "metadata": {
        "colab": {
          "base_uri": "https://localhost:8080/"
        },
        "id": "bj21uqr21AoY",
        "outputId": "fca28172-a1e8-4998-e9c3-95b5079c2483"
      },
      "execution_count": null,
      "outputs": [
        {
          "output_type": "stream",
          "name": "stdout",
          "text": [
            "Sourabhi from cummins\n",
            "Mayuri from cummins\n",
            "Nandini from cummins\n",
            "         96 function calls in 0.002 seconds\n",
            "\n",
            "   Ordered by: standard name\n",
            "\n",
            "   ncalls  tottime  percall  cumtime  percall filename:lineno(function)\n",
            "        3    0.000    0.000    0.002    0.001 <ipython-input-56-7b11f2dc2e00>:1(my_function)\n",
            "        1    0.000    0.000    0.002    0.002 <ipython-input-58-1ad41a9ff9ea>:1(wrapper)\n",
            "        1    0.000    0.000    0.002    0.002 <string>:1(<module>)\n",
            "        7    0.000    0.000    0.002    0.000 iostream.py:195(schedule)\n",
            "        6    0.000    0.000    0.000    0.000 iostream.py:308(_is_master_process)\n",
            "        6    0.000    0.000    0.000    0.000 iostream.py:321(_schedule_flush)\n",
            "        6    0.000    0.000    0.002    0.000 iostream.py:384(write)\n",
            "        7    0.000    0.000    0.000    0.000 iostream.py:91(_event_pipe)\n",
            "        7    0.002    0.000    0.002    0.000 socket.py:543(send)\n",
            "        7    0.000    0.000    0.000    0.000 threading.py:1102(_wait_for_tstate_lock)\n",
            "        7    0.000    0.000    0.000    0.000 threading.py:1169(is_alive)\n",
            "        7    0.000    0.000    0.000    0.000 threading.py:553(is_set)\n",
            "        1    0.000    0.000    0.002    0.002 {built-in method builtins.exec}\n",
            "        6    0.000    0.000    0.000    0.000 {built-in method builtins.isinstance}\n",
            "        3    0.000    0.000    0.002    0.001 {built-in method builtins.print}\n",
            "        6    0.000    0.000    0.000    0.000 {built-in method posix.getpid}\n",
            "        7    0.000    0.000    0.000    0.000 {method 'acquire' of '_thread.lock' objects}\n",
            "        7    0.000    0.000    0.000    0.000 {method 'append' of 'collections.deque' objects}\n",
            "        1    0.000    0.000    0.000    0.000 {method 'disable' of '_lsprof.Profiler' objects}\n",
            "\n",
            "\n"
          ]
        }
      ]
    }
  ]
}